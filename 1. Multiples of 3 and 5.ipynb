{
 "cells": [
  {
   "cell_type": "markdown",
   "metadata": {},
   "source": [
    "**This problem is a programming version of Problem 1 from projecteuler.net**\n",
    "\n",
    "If we list all the natural numbers below $10$ that are multiples of $3$ or $5$, we get $3$, $5$, $6$ and $9$. The sum of these multiples is $23$.\n",
    "\n",
    "Find the sum of all the multiples of $3$ or $5$ below $N$.\n",
    "\n",
    "### Input Format\n",
    "\n",
    "First line contains  that denotes the number of test cases. This is followed by  lines, each containing an integer, .\n",
    "\n",
    "### Constraints\n",
    "\n",
    "$ 1 \\leq T \\leq 10^5 $ <br>\n",
    "$ 1 \\leq N \\leq 10^9 $\n",
    "\n",
    "### Output Format\n",
    "\n",
    "For each test case, print an integer that denotes the sum of all the multiples of  or  below .\n",
    "\n",
    "\n",
    "Sample Input 0\n",
    "\n",
    "2<br>\n",
    "10<br>\n",
    "100<br>\n",
    "<br>\n",
    "Sample Output 0\n",
    "\n",
    "23<br>\n",
    "2318\n",
    "<br>\n",
    "\n",
    "### Explanation 0\n",
    "\n",
    "For $N = 10$, if we list all the natural numbers below $10$ that are multiples of $3$ or $5$ or , we get $3$, $5$, $6$ and $9$. The sum of these multiples is $23$.\n",
    "\n",
    "Similarly for $N = 100$, we get $2318$."
   ]
  },
  {
   "cell_type": "code",
   "execution_count": 4,
   "metadata": {},
   "outputs": [
    {
     "name": "stdout",
     "output_type": "stream",
     "text": [
      "23\n",
      "2318\n"
     ]
    }
   ],
   "source": [
    "# Method 1\n",
    "# The LCM of 3 and 5, i.e., 15 is counted twice so we subtract it once from the final count \n",
    "print(sum([ a for a in range(10) if a % 3 == 0 or a % 5 == 0 and a % 15 != 0]))\n",
    "print(sum([ a for a in range(100) if a % 3 == 0 or a % 5 == 0 and a % 15 != 0]))"
   ]
  },
  {
   "cell_type": "markdown",
   "metadata": {},
   "source": [
    "For projecteurler.net, your solution is ready. However, this solution is not accepted by HackerRank. Test cases fail. <br>\n",
    "Also, personally I find this approach brute-force.  <br>\n",
    "If you increase the $N$ to a $10^6$ or higher, the loop starts to slow down. <br>\n",
    "\n",
    "We can be more elegant than this."
   ]
  },
  {
   "cell_type": "markdown",
   "metadata": {},
   "source": [
    "## Using Arithmetic Progression\n",
    "\n",
    "We can term the series as an arithmetic progression with <br>\n",
    "$ a_1 = 3 $, <br>\n",
    "$ d = 3 \\space and $<br>\n",
    "$n = number\\space of \\space elements $\n",
    "\n",
    "<br>\n",
    "same for $5$"
   ]
  },
  {
   "cell_type": "markdown",
   "metadata": {},
   "source": [
    "$ S_n = n/2 * (2a_1 + (n - 1) d) $"
   ]
  },
  {
   "cell_type": "code",
   "execution_count": 26,
   "metadata": {},
   "outputs": [],
   "source": [
    "def sum_calc(n, d):\n",
    "    l = (n - 1) // d\n",
    "    s = int((2*d + (l - 1) * d ) * l/2)\n",
    "#     print('s{} : {}'.format(d, s))\n",
    "    return s"
   ]
  },
  {
   "cell_type": "code",
   "execution_count": 27,
   "metadata": {},
   "outputs": [
    {
     "name": "stdout",
     "output_type": "stream",
     "text": [
      "23\n",
      "2318\n"
     ]
    }
   ],
   "source": [
    "print(sum_calc(10, 3) + sum_calc(10, 5) - sum_calc(10, 15))\n",
    "print(sum_calc(100, 3) + sum_calc(100, 5) - sum_calc(100, 15))"
   ]
  },
  {
   "cell_type": "markdown",
   "metadata": {},
   "source": [
    "> We've eliminated loops altogether using simple mathematical concepts. This is the crux of Project Euler"
   ]
  },
  {
   "cell_type": "code",
   "execution_count": null,
   "metadata": {},
   "outputs": [],
   "source": []
  }
 ],
 "metadata": {
  "kernelspec": {
   "display_name": "Python 3",
   "language": "python",
   "name": "python3"
  },
  "language_info": {
   "codemirror_mode": {
    "name": "ipython",
    "version": 3
   },
   "file_extension": ".py",
   "mimetype": "text/x-python",
   "name": "python",
   "nbconvert_exporter": "python",
   "pygments_lexer": "ipython3",
   "version": "3.5.2"
  }
 },
 "nbformat": 4,
 "nbformat_minor": 2
}
